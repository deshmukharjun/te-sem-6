{
 "cells": [
  {
   "cell_type": "code",
   "execution_count": 3,
   "id": "ad068ffc-9324-4604-80dd-781bcbfb3b38",
   "metadata": {},
   "outputs": [],
   "source": [
    "import pandas as pd\n",
    "import numpy as np\n",
    "from sklearn.preprocessing import LabelEncoder, StandardScaler\n",
    "from sklearn.model_selection import train_test_split"
   ]
  },
  {
   "cell_type": "code",
   "execution_count": 4,
   "id": "5e588d03-cf99-45b6-ada0-11698a1d1292",
   "metadata": {},
   "outputs": [],
   "source": [
    "df = pd.read_csv(\"C:\\\\Users\\\\yashs\\\\OneDrive\\\\Desktop\\\\jupyter projects\\\\Iris.csv\")\n"
   ]
  },
  {
   "cell_type": "code",
   "execution_count": 5,
   "id": "c11e68a6-62c6-46b3-95db-396d92504240",
   "metadata": {},
   "outputs": [
    {
     "name": "stdout",
     "output_type": "stream",
     "text": [
      "Shape of dataset: (150, 6)\n",
      "\n",
      "First 5 rows:\n",
      "    Id  SepalLengthCm  SepalWidthCm  PetalLengthCm  PetalWidthCm      Species\n",
      "0   1            5.1           3.5            1.4           0.2  Iris-setosa\n",
      "1   2            4.9           3.0            1.4           0.2  Iris-setosa\n",
      "2   3            4.7           3.2            1.3           0.2  Iris-setosa\n",
      "3   4            4.6           3.1            1.5           0.2  Iris-setosa\n",
      "4   5            5.0           3.6            1.4           0.2  Iris-setosa\n",
      "\n",
      "Missing values:\n",
      " Id               0\n",
      "SepalLengthCm    0\n",
      "SepalWidthCm     0\n",
      "PetalLengthCm    0\n",
      "PetalWidthCm     0\n",
      "Species          0\n",
      "dtype: int64\n"
     ]
    }
   ],
   "source": [
    "print(\"Shape of dataset:\", df.shape)\n",
    "print(\"\\nFirst 5 rows:\\n\", df.head())\n",
    "print(\"\\nMissing values:\\n\", df.isnull().sum())"
   ]
  },
  {
   "cell_type": "code",
   "execution_count": 6,
   "id": "8a8ccbb8-f341-4a23-aed5-acb1a0a506db",
   "metadata": {},
   "outputs": [],
   "source": [
    "for col in df.columns:\n",
    "    if df[col].dtype == 'object':\n",
    "        df[col] = df[col].fillna(df[col].mode()[0])\n",
    "    else:\n",
    "        df[col] = df[col].fillna(df[col].median())\n"
   ]
  },
  {
   "cell_type": "code",
   "execution_count": 7,
   "id": "50b52373-a7e6-49ee-ac9a-38bb9f5167d8",
   "metadata": {},
   "outputs": [],
   "source": [
    "label_encoders = {}\n",
    "for col in df.select_dtypes(include=['object']).columns:\n",
    "    le = LabelEncoder()\n",
    "    df[col] = le.fit_transform(df[col])\n",
    "    label_encoders[col] = le"
   ]
  },
  {
   "cell_type": "code",
   "execution_count": 8,
   "id": "d47de850-47ea-48ea-bbc1-264d60a79e70",
   "metadata": {},
   "outputs": [],
   "source": [
    "scaler = StandardScaler()\n",
    "numeric_cols = df.select_dtypes(include=[np.number]).columns\n",
    "df[numeric_cols] = scaler.fit_transform(df[numeric_cols])"
   ]
  },
  {
   "cell_type": "code",
   "execution_count": 9,
   "id": "1feed1cc-6ffc-416c-9320-2d73c841c2f6",
   "metadata": {},
   "outputs": [],
   "source": [
    "if len(numeric_cols) >= 2:\n",
    "    df['interaction_feature'] = df[numeric_cols[0]] * df[numeric_cols[1]]"
   ]
  },
  {
   "cell_type": "code",
   "execution_count": 10,
   "id": "1263aa05-6352-4de8-bc7e-f522f3140824",
   "metadata": {},
   "outputs": [],
   "source": [
    "X = df.drop(columns=[df.columns[-1]])  # Assume last column is target\n",
    "y = df[df.columns[-1]]\n",
    "X_train, X_test, y_train, y_test = train_test_split(X, y, test_size=0.2, random_state=42)"
   ]
  },
  {
   "cell_type": "code",
   "execution_count": 11,
   "id": "b4eaa7d4-f882-4629-ab29-25d48a9fe353",
   "metadata": {},
   "outputs": [
    {
     "name": "stdout",
     "output_type": "stream",
     "text": [
      "\n",
      "Processed Data Sample:\n",
      "           Id  SepalLengthCm  SepalWidthCm  PetalLengthCm  PetalWidthCm  \\\n",
      "22 -1.212463      -1.506521      1.263460      -1.568735     -1.312977   \n",
      "15 -1.374124      -0.173674      3.114684      -1.284407     -1.050031   \n",
      "65 -0.219398       1.038005      0.106445       0.364699      0.264699   \n",
      "11 -1.466502      -1.264185      0.800654      -1.227541     -1.312977   \n",
      "42 -0.750572      -1.748856      0.337848      -1.398138     -1.312977   \n",
      "\n",
      "     Species  \n",
      "22 -1.224745  \n",
      "15 -1.224745  \n",
      "65  0.000000  \n",
      "11 -1.224745  \n",
      "42 -1.224745  \n"
     ]
    }
   ],
   "source": [
    "print(\"\\nProcessed Data Sample:\\n\", X_train.head())"
   ]
  },
  {
   "cell_type": "code",
   "execution_count": null,
   "id": "3b4f7333-3f08-4115-ab71-8f120d2db637",
   "metadata": {},
   "outputs": [],
   "source": []
  }
 ],
 "metadata": {
  "kernelspec": {
   "display_name": "Python 3 (ipykernel)",
   "language": "python",
   "name": "python3"
  },
  "language_info": {
   "codemirror_mode": {
    "name": "ipython",
    "version": 3
   },
   "file_extension": ".py",
   "mimetype": "text/x-python",
   "name": "python",
   "nbconvert_exporter": "python",
   "pygments_lexer": "ipython3",
   "version": "3.12.0"
  }
 },
 "nbformat": 4,
 "nbformat_minor": 5
}
