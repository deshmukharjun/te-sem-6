{
 "cells": [
  {
   "cell_type": "code",
   "execution_count": 1,
   "metadata": {
    "id": "b7bsfy-fzION"
   },
   "outputs": [],
   "source": [
    "import pandas as pd\n",
    "# train Data\n",
    "trainData = pd.read_csv(r\"C:\\Users\\yashs\\OneDrive\\Desktop\\MIDS  code\\train - train.csv\")\n",
    "testData = pd.read_csv(r\"C:\\Users\\yashs\\OneDrive\\Desktop\\MIDS  code\\test - test.csv\")\n"
   ]
  },
  {
   "cell_type": "code",
   "execution_count": 2,
   "metadata": {
    "colab": {
     "base_uri": "https://localhost:8080/",
     "height": 206
    },
    "id": "Si82YlH9zjp2",
    "outputId": "ea7e9e8b-839a-43a9-b1d3-a222d57ff7a1"
   },
   "outputs": [
    {
     "data": {
      "text/html": [
       "<div>\n",
       "<style scoped>\n",
       "    .dataframe tbody tr th:only-of-type {\n",
       "        vertical-align: middle;\n",
       "    }\n",
       "\n",
       "    .dataframe tbody tr th {\n",
       "        vertical-align: top;\n",
       "    }\n",
       "\n",
       "    .dataframe thead th {\n",
       "        text-align: right;\n",
       "    }\n",
       "</style>\n",
       "<table border=\"1\" class=\"dataframe\">\n",
       "  <thead>\n",
       "    <tr style=\"text-align: right;\">\n",
       "      <th></th>\n",
       "      <th>Content</th>\n",
       "      <th>Label</th>\n",
       "    </tr>\n",
       "  </thead>\n",
       "  <tbody>\n",
       "    <tr>\n",
       "      <th>1592</th>\n",
       "      <td>best remembered for his understated performanc...</td>\n",
       "      <td>neg</td>\n",
       "    </tr>\n",
       "    <tr>\n",
       "      <th>1591</th>\n",
       "      <td>\" return to horror high , \" wants to be a cou...</td>\n",
       "      <td>neg</td>\n",
       "    </tr>\n",
       "    <tr>\n",
       "      <th>1727</th>\n",
       "      <td>by-the-numbers : a film which introduces chara...</td>\n",
       "      <td>neg</td>\n",
       "    </tr>\n",
       "    <tr>\n",
       "      <th>1503</th>\n",
       "      <td>one of the responses those that enjoy \" detroi...</td>\n",
       "      <td>neg</td>\n",
       "    </tr>\n",
       "    <tr>\n",
       "      <th>1627</th>\n",
       "      <td>the best thing about , \" lake placid \" is that...</td>\n",
       "      <td>neg</td>\n",
       "    </tr>\n",
       "  </tbody>\n",
       "</table>\n",
       "</div>"
      ],
      "text/plain": [
       "                                                Content Label\n",
       "1592  best remembered for his understated performanc...   neg\n",
       "1591   \" return to horror high , \" wants to be a cou...   neg\n",
       "1727  by-the-numbers : a film which introduces chara...   neg\n",
       "1503  one of the responses those that enjoy \" detroi...   neg\n",
       "1627  the best thing about , \" lake placid \" is that...   neg"
      ]
     },
     "execution_count": 2,
     "metadata": {},
     "output_type": "execute_result"
    }
   ],
   "source": [
    "trainData.sample(frac=1).head(5) # shuffle the df and pick first 5"
   ]
  },
  {
   "cell_type": "markdown",
   "metadata": {
    "id": "OZ524Fh81E0a"
   },
   "source": [
    "**configuring a TfidfVectorizer from the scikit-learn library**\n",
    "1.\tmin_df = 5:\n",
    "This parameter sets the minimum number of documents in which a term must appear to be considered for inclusion in the vocabulary.\n",
    "Specifically, min_df=5 means that any word that appears in fewer than 5 documents will be ignored. This can help remove rare words that don't provide much useful information.\n",
    "2.\tmax_df = 0.8:\n",
    "This parameter sets the maximum proportion of documents in which a term can appear for it to be included in the vocabulary.\n",
    "Here, max_df=0.8 means that any word appearing in more than 80% of the documents will be ignored. This helps remove very common words (like \"the\", \"and\", etc.), which are often not helpful for distinguishing between documents.\n",
    "3.\tsublinear_tf = True:\n",
    "This option modifies the term frequency (TF) component of the TF-IDF calculation.\n",
    "When sublinear_tf=True, the term frequency is transformed using a logarithmic scale, meaning the term frequency is replaced by 1 + log(tf) instead of just tf. This helps to reduce the impact of frequently occurring words, preventing them from dominating the TF-IDF score.\n",
    "4.\tuse_idf = True:\n",
    "This enables the inverse document frequency (IDF) component of the TF-IDF calculation.\n",
    "When use_idf=True, the TF-IDF score is calculated by multiplying the term frequency (TF) by the inverse document frequency (IDF). IDF helps to downscale the weight of terms that appear in many documents and gives more importance to terms that are rare in the dataset but occur in specific documents.\n",
    "The TfidfVectorizer with these settings will:\n",
    "•\tIgnore terms that appear in fewer than 5 documents or in more than 80% of the documents.\n",
    "•\tApply a logarithmic scaling to the term frequency to reduce the influence of frequently occurring words.\n",
    "•\tUse the inverse document frequency to downscale the importance of common terms and highlight more unique terms across the documents.\n"
   ]
  },
  {
   "cell_type": "markdown",
   "metadata": {
    "id": "yJiRKP_y1Chy"
   },
   "source": []
  },
  {
   "cell_type": "code",
   "execution_count": 3,
   "metadata": {
    "id": "kgdzji03zvV9"
   },
   "outputs": [],
   "source": [
    "from sklearn.feature_extraction.text import TfidfVectorizer\n",
    "# Create feature vectors\n",
    "vectorizer = TfidfVectorizer(min_df = 5,\n",
    "                             max_df = 0.8,\n",
    "                             sublinear_tf = True,\n",
    "                             use_idf = True)\n",
    "train_vectors = vectorizer.fit_transform(trainData['Content'])\n",
    "test_vectors = vectorizer.transform(testData['Content'])"
   ]
  },
  {
   "cell_type": "markdown",
   "metadata": {
    "id": "gwO203BtzUtm"
   },
   "source": [
    "classifier_linear = svm.SVC(kernel='linear')\n",
    "This creates a Support Vector Machine (SVM) classifier with a linear kernel using scikit-learn."
   ]
  },
  {
   "cell_type": "markdown",
   "metadata": {
    "id": "4tGNsciK1B1D"
   },
   "source": []
  },
  {
   "cell_type": "code",
   "execution_count": 4,
   "metadata": {
    "colab": {
     "base_uri": "https://localhost:8080/"
    },
    "id": "RIcHo1qX0F1N",
    "outputId": "62f79933-d520-4540-a761-28ca628b0108"
   },
   "outputs": [
    {
     "name": "stdout",
     "output_type": "stream",
     "text": [
      "Training time: 9.017060s; Prediction time: 1.641948s\n",
      "positive:  {'precision': 0.9191919191919192, 'recall': 0.91, 'f1-score': 0.914572864321608, 'support': 100.0}\n",
      "negative:  {'precision': 0.9108910891089109, 'recall': 0.92, 'f1-score': 0.9154228855721394, 'support': 100.0}\n"
     ]
    }
   ],
   "source": [
    "import time\n",
    "from sklearn import svm\n",
    "from sklearn.metrics import classification_report\n",
    "# Perform classification with SVM, kernel=linear\n",
    "classifier_linear = svm.SVC(kernel='linear')\n",
    "t0 = time.time()\n",
    "classifier_linear.fit(train_vectors, trainData['Label'])\n",
    "t1 = time.time()\n",
    "prediction_linear = classifier_linear.predict(test_vectors)\n",
    "t2 = time.time()\n",
    "time_linear_train = t1-t0\n",
    "time_linear_predict = t2-t1\n",
    "# results\n",
    "print(\"Training time: %fs; Prediction time: %fs\" % (time_linear_train, time_linear_predict))\n",
    "report = classification_report(testData['Label'], prediction_linear, output_dict=True)\n",
    "print('positive: ', report['pos'])\n",
    "print('negative: ', report['neg'])"
   ]
  },
  {
   "cell_type": "code",
   "execution_count": null,
   "metadata": {
    "id": "VayEIQsN1IJ0"
   },
   "outputs": [],
   "source": []
  }
 ],
 "metadata": {
  "colab": {
   "provenance": []
  },
  "kernelspec": {
   "display_name": "Python 3 (ipykernel)",
   "language": "python",
   "name": "python3"
  },
  "language_info": {
   "codemirror_mode": {
    "name": "ipython",
    "version": 3
   },
   "file_extension": ".py",
   "mimetype": "text/x-python",
   "name": "python",
   "nbconvert_exporter": "python",
   "pygments_lexer": "ipython3",
   "version": "3.12.0"
  }
 },
 "nbformat": 4,
 "nbformat_minor": 4
}
